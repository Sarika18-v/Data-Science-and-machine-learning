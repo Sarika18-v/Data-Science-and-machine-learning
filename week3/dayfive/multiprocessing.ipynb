{
 "cells": [
  {
   "cell_type": "code",
   "execution_count": 22,
   "id": "3db9f41c",
   "metadata": {},
   "outputs": [
    {
     "ename": "ImportError",
     "evalue": "cannot import name 'timer' from 'timer' (C:\\Users\\USER\\anaconda3\\Lib\\site-packages\\win32\\timer.pyd)",
     "output_type": "error",
     "traceback": [
      "\u001b[1;31m---------------------------------------------------------------------------\u001b[0m",
      "\u001b[1;31mImportError\u001b[0m                               Traceback (most recent call last)",
      "Cell \u001b[1;32mIn[22], line 2\u001b[0m\n\u001b[0;32m      1\u001b[0m \u001b[38;5;28;01mimport\u001b[39;00m \u001b[38;5;21;01mrequests\u001b[39;00m\n\u001b[1;32m----> 2\u001b[0m \u001b[38;5;28;01mfrom\u001b[39;00m \u001b[38;5;21;01mtimer\u001b[39;00m \u001b[38;5;28;01mimport\u001b[39;00m timer\n\u001b[0;32m      3\u001b[0m \u001b[38;5;28;01mfrom\u001b[39;00m \u001b[38;5;21;01mmultiprocessing\u001b[39;00m \u001b[38;5;28;01mimport\u001b[39;00m pool\n\u001b[0;32m      4\u001b[0m URL\u001b[38;5;241m=\u001b[39m\u001b[38;5;124m\"\u001b[39m\u001b[38;5;124mhttps://httpbin.org/uuid\u001b[39m\u001b[38;5;124m\"\u001b[39m\n",
      "\u001b[1;31mImportError\u001b[0m: cannot import name 'timer' from 'timer' (C:\\Users\\USER\\anaconda3\\Lib\\site-packages\\win32\\timer.pyd)"
     ]
    }
   ],
   "source": [
    "import requests\n",
    "from multiprocessing import pool\n",
    "URL=\"https://httpbin.org/uuid\"\n",
    "def fetch_uuid(session,url):\n",
    "    with session.get(url) as response:\n",
    "        print(response.json()['uuid'])\n",
    "@timer(1,1)\n",
    "def main():\n",
    "    with Pool() as pool:\n",
    "        with requests.Session() as session:\n",
    "            pool.starmap(fetch_uuid,[(session,URL) for _ in range(100)])\n",
    "if __name__ == \"__main__\":\n",
    "    main()\n",
    "            \n"
   ]
  },
  {
   "cell_type": "code",
   "execution_count": null,
   "id": "d1d63eba",
   "metadata": {},
   "outputs": [],
   "source": []
  },
  {
   "cell_type": "code",
   "execution_count": null,
   "id": "06115dfc",
   "metadata": {},
   "outputs": [],
   "source": []
  }
 ],
 "metadata": {
  "kernelspec": {
   "display_name": "Python 3 (ipykernel)",
   "language": "python",
   "name": "python3"
  },
  "language_info": {
   "codemirror_mode": {
    "name": "ipython",
    "version": 3
   },
   "file_extension": ".py",
   "mimetype": "text/x-python",
   "name": "python",
   "nbconvert_exporter": "python",
   "pygments_lexer": "ipython3",
   "version": "3.11.5"
  }
 },
 "nbformat": 4,
 "nbformat_minor": 5
}
