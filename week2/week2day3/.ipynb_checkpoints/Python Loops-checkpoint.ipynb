{
 "cells": [
  {
   "cell_type": "markdown",
   "metadata": {
    "id": "vimaFMEf-ClU"
   },
   "source": [
    "# Python Loops\n",
    "- Python Loops are used for executing block of code repeatedly until some condition is satisfied.\n",
    "\n",
    "- Python loops can be categorized into 2 types:\n",
    "  1. `while loop`\n",
    "  2. `for loop`\n",
    "\n",
    "\n",
    "- In this lecture we will cover:\n",
    "  1. `while loop`\n",
    "    - syntax of while loop\n",
    "    - break statement\n",
    "    - continue statement\n",
    "    - Infinite Loop\n",
    "\n",
    "  2. `for loop`\n",
    "    - syntax of for loop\n",
    "    - loop over a sequence (string, list, tuple, set, dictionary)\n",
    "    - loop using range() function\n",
    "    - simple vs nested for loops"
   ]
  },
  {
   "cell_type": "markdown",
   "metadata": {
    "id": "uu0yuA6kBNXu"
   },
   "source": [
    "# 1. While Loop\n",
    "- With the `while` loop we can execute set of statements as long as a condition is true.\n",
    "\n",
    "- **Syntax (simple while loop)**\n",
    "\n",
    "  ```\n",
    "  while <condition>:\n",
    "    #while block code logic\n",
    "  ```\n",
    "\n",
    "- **syntax (nested while loop)**\n",
    "\n",
    "  ```\n",
    "  # outer while loop\n",
    "  while <condition>:\n",
    "\n",
    "    # inner while loop\n",
    "    while <condition>:\n",
    "      # code logic\n",
    "  ```\n",
    "\n",
    "  _`we will only look into simple while loop`_"
   ]
  },
  {
   "cell_type": "markdown",
   "metadata": {
    "id": "qzhuF5GJBtqv"
   },
   "source": [
    "`Q. Write a python program to print \"Hello world\" 10 times using while loop.`"
   ]
  },
  {
   "cell_type": "code",
   "execution_count": 1,
   "metadata": {
    "id": "PkNnESDi8y8D"
   },
   "outputs": [],
   "source": [
    "# write your program here"
   ]
  },
  {
   "cell_type": "markdown",
   "metadata": {
    "id": "0MjWjeyiE6qa"
   },
   "source": [
    "## 1.2. Break Statement\n",
    "- `break` keyword is used to break and exit from the loop.\n",
    "\n",
    "```\n",
    "Q. Given list = ['mango', 'banana', 'apple', 'kiwi', 'orange']. print every items, if item = apple, then exit from loop.\n",
    "\n",
    "Output:\n",
    "  - mango\n",
    "  - banana\n",
    "```"
   ]
  },
  {
   "cell_type": "code",
   "execution_count": 10,
   "metadata": {
    "id": "G4XjkrUNB1-O"
   },
   "outputs": [
    {
     "name": "stdout",
     "output_type": "stream",
     "text": [
      "mango\n",
      "banana\n"
     ]
    }
   ],
   "source": [
    "# write your program here\n",
    "list = ['mango', 'banana', 'apple', 'kiwi', 'orange']\n",
    "for items in list:\n",
    "    if items ==\"apple\":\n",
    "        break\n",
    "    else:\n",
    "        print(items)\n"
   ]
  },
  {
   "cell_type": "markdown",
   "metadata": {
    "id": "5m-YqAE7FoLo"
   },
   "source": [
    "## 1.3. Continue Statement\n",
    "- `continue` keyword is used to stop current iteration and continue with next iteration.\n",
    "\n",
    "\n",
    "```\n",
    "Q. Given list = ['mango', 'banana', 'apple', 'kiwi', 'orange'].\n",
    " **print** every items, if item = apple, simply continue with next item without printing.\n",
    "\n",
    "Output:\n",
    "  - mango\n",
    "  - banana\n",
    "  - kiwi\n",
    "  - orange\n",
    "```\n",
    "\n"
   ]
  },
  {
   "cell_type": "code",
   "execution_count": 11,
   "metadata": {
    "id": "r6ZiD2LOFnAB"
   },
   "outputs": [
    {
     "name": "stdout",
     "output_type": "stream",
     "text": [
      "mango\n",
      "banana\n",
      "kiwi\n",
      "orange\n"
     ]
    }
   ],
   "source": [
    "# write your program here\n",
    "list = ['mango', 'banana', 'apple', 'kiwi', 'orange']\n",
    "for items in list:\n",
    "    if items ==\"apple\":\n",
    "        continue\n",
    "    else:\n",
    "        print(items)\n"
   ]
  },
  {
   "cell_type": "markdown",
   "metadata": {
    "id": "1vLG1cdjHIm5"
   },
   "source": [
    "# 1. 4 Infinite Loop\n",
    "\n",
    "**Q. How can I execute block of code infinite times?**\n",
    "\n",
    "`Warning: May crash your system`"
   ]
  },
  {
   "cell_type": "code",
   "execution_count": null,
   "metadata": {
    "id": "PoO_g9OqHUmH"
   },
   "outputs": [],
   "source": [
    "## write your program here\n",
    "\n",
    "while True:\n",
    "    print('infine loop')"
   ]
  },
  {
   "cell_type": "markdown",
   "metadata": {
    "id": "wN7L-NSzG0MR"
   },
   "source": [
    "# 2. for loop\n",
    "- A for loop is used for iterating over a sequence (string, list, tuple, set, dictionary).\n",
    "- A for loop is used using `for` keyword in python.\n",
    "\n",
    "- **Syntax (simple for loop)**\n",
    "  \n",
    "  ```\n",
    "  for <item> in <iterable>:\n",
    "    # for code block\n",
    "  ```\n",
    "\n",
    "- **Syntax (nested for loop)**  \n",
    "\n",
    "  ```\n",
    "  for <outer_item> in <outer_iterable>:  \n",
    "      # code to be executed for each outer_item\n",
    "      \n",
    "      for <inner_item> in <inner_iterable>:\n",
    "          # code to be executed for each inner_item\n",
    "  ```"
   ]
  },
  {
   "cell_type": "markdown",
   "metadata": {
    "id": "vjWQ3cZY5fzB"
   },
   "source": [
    "## 2.2 Loop Over a Sequence (String, List, Tuple, Set, Dictionary)\n",
    "- We have seen in the respective chapter, how we can loop through different data types.\n",
    "\n",
    "**Q.1. Given List of numbers, [10, 20, 5, 7, 2, 9, 13, 100]. Print items that are even.**  \n",
    "_`Hint: even numbers has reminder = 0`_\n",
    "****"
   ]
  },
  {
   "cell_type": "code",
   "execution_count": 37,
   "metadata": {
    "id": "28fo2D0EIfDj"
   },
   "outputs": [
    {
     "name": "stdout",
     "output_type": "stream",
     "text": [
      "10 4 66 "
     ]
    }
   ],
   "source": [
    "# write your program here\n",
    "list1 = [10, 21, 4, 45, 66, 93]\n",
    " \n",
    "# iterating each number in list\n",
    "for num in list1:\n",
    " \n",
    "    # checking condition\n",
    "    if num % 2 == 0:\n",
    "        print(num, end=\" \")\n",
    "    "
   ]
  },
  {
   "cell_type": "markdown",
   "metadata": {
    "id": "wrzJYRMY7Rr5"
   },
   "source": [
    "`Similar loop concepts will be applicable to String, Tuple, Set, Dictionary.`"
   ]
  },
  {
   "cell_type": "markdown",
   "metadata": {
    "id": "seaAHPiIHpLn"
   },
   "source": [
    "## 2.3 Loop using range() function\n",
    "- To loop through a set of code specified number of times, we can use the `range()` function.\n",
    "- The `range()` function returns a sequence of numbers, starting from 0 by default. and increments by 1 (by default), and ends at a specified number.\n",
    "- **Syntax:**\n",
    "\n",
    "\n",
    "<img src='https://drive.google.com/uc?id=1PGfdHRK-JwiUDMIFEViFm34IR70a5oRl'>\n"
   ]
  },
  {
   "cell_type": "markdown",
   "metadata": {
    "id": "sWK1M2vfPOIs"
   },
   "source": [
    "**Q. Write a python program to print following patterns using range() function.**\n",
    "\n",
    "```\n",
    "*                                       \n",
    "**\n",
    "***                                               \n",
    "****\n",
    "*****\n",
    "```"
   ]
  },
  {
   "cell_type": "code",
   "execution_count": 50,
   "metadata": {
    "executionInfo": {
     "elapsed": 468,
     "status": "ok",
     "timestamp": 1686501489191,
     "user": {
      "displayName": "Anish Thapaliya",
      "userId": "06325140887572930045"
     },
     "user_tz": -345
    },
    "id": "MYV-B-hqPE4Y"
   },
   "outputs": [
    {
     "ename": "TypeError",
     "evalue": "range() takes 0 positional arguments but 2 were given",
     "output_type": "error",
     "traceback": [
      "\u001b[1;31m---------------------------------------------------------------------------\u001b[0m",
      "\u001b[1;31mTypeError\u001b[0m                                 Traceback (most recent call last)",
      "Cell \u001b[1;32mIn[50], line 3\u001b[0m\n\u001b[0;32m      1\u001b[0m \u001b[38;5;66;03m## write your program here\u001b[39;00m\n\u001b[0;32m      2\u001b[0m row\u001b[38;5;241m=\u001b[39m\u001b[38;5;241m5\u001b[39m\n\u001b[1;32m----> 3\u001b[0m \u001b[38;5;28;01mfor\u001b[39;00m i \u001b[38;5;129;01min\u001b[39;00m \u001b[38;5;28mrange\u001b[39m(\u001b[38;5;241m0\u001b[39m,row):\n\u001b[0;32m      4\u001b[0m     \u001b[38;5;28;01mfor\u001b[39;00m j \u001b[38;5;129;01min\u001b[39;00m \u001b[38;5;28mrange\u001b[39m(\u001b[38;5;241m0\u001b[39m,i\u001b[38;5;241m+\u001b[39m\u001b[38;5;241m1\u001b[39m):\n\u001b[0;32m      5\u001b[0m         \u001b[38;5;28mprint\u001b[39m(\u001b[38;5;124m\"\u001b[39m\u001b[38;5;124m*\u001b[39m\u001b[38;5;124m\"\u001b[39m,end\u001b[38;5;241m=\u001b[39m\u001b[38;5;124m\"\u001b[39m\u001b[38;5;124m \u001b[39m\u001b[38;5;124m\"\u001b[39m)\n",
      "\u001b[1;31mTypeError\u001b[0m: range() takes 0 positional arguments but 2 were given"
     ]
    }
   ],
   "source": [
    "## write your program here\n",
    "row=5\n",
    "for i in range(0,row):\n",
    "    for j in range(0,i+1):\n",
    "        print(\"*\",end=\" \")\n",
    "    print(\"\\r\")"
   ]
  },
  {
   "cell_type": "markdown",
   "metadata": {
    "id": "CUzqC-xf7c7i"
   },
   "source": [
    "## 2.4 Simple vs  Nested for Loops\n",
    "\n",
    "**Q.1. Write a program that takes a string as input and counts the number of vowels (a, e, i, o, u) using a for loop.**\n",
    "\n",
    "**Q.2 Write a program that generates all possible combinations of three numbers from 1 to 5 using nested for loops and prints them.**"
   ]
  },
  {
   "cell_type": "code",
   "execution_count": 61,
   "metadata": {
    "executionInfo": {
     "elapsed": 5,
     "status": "ok",
     "timestamp": 1686500463337,
     "user": {
      "displayName": "Anish Thapaliya",
      "userId": "06325140887572930045"
     },
     "user_tz": -345
    },
    "id": "Pq-nExtJ7NU_"
   },
   "outputs": [
    {
     "name": "stdout",
     "output_type": "stream",
     "text": [
      "Enter a string: Sarika loves food\n"
     ]
    },
    {
     "ename": "TypeError",
     "evalue": "range() takes 0 positional arguments but 1 was given",
     "output_type": "error",
     "traceback": [
      "\u001b[1;31m---------------------------------------------------------------------------\u001b[0m",
      "\u001b[1;31mTypeError\u001b[0m                                 Traceback (most recent call last)",
      "Cell \u001b[1;32mIn[61], line 13\u001b[0m\n\u001b[0;32m      9\u001b[0m             count\u001b[38;5;241m+\u001b[39m\u001b[38;5;241m=\u001b[39m\u001b[38;5;241m1\u001b[39m\n\u001b[0;32m     10\u001b[0m     \u001b[38;5;28;01mreturn\u001b[39;00m count\n\u001b[1;32m---> 13\u001b[0m \u001b[38;5;28mprint\u001b[39m(\u001b[38;5;124m\"\u001b[39m\u001b[38;5;124mvowels used\u001b[39m\u001b[38;5;124m\"\u001b[39m,countvowels(name))\n",
      "Cell \u001b[1;32mIn[61], line 7\u001b[0m, in \u001b[0;36mcountvowels\u001b[1;34m(name)\u001b[0m\n\u001b[0;32m      5\u001b[0m \u001b[38;5;28;01mdef\u001b[39;00m \u001b[38;5;21mcountvowels\u001b[39m(name):\n\u001b[0;32m      6\u001b[0m     count\u001b[38;5;241m=\u001b[39m\u001b[38;5;241m0\u001b[39m\n\u001b[1;32m----> 7\u001b[0m     \u001b[38;5;28;01mfor\u001b[39;00m i \u001b[38;5;129;01min\u001b[39;00m \u001b[38;5;28mrange\u001b[39m(\u001b[38;5;28mlen\u001b[39m(name)):\n\u001b[0;32m      8\u001b[0m         \u001b[38;5;28;01mif\u001b[39;00m vowel(name[i]):\n\u001b[0;32m      9\u001b[0m             count\u001b[38;5;241m+\u001b[39m\u001b[38;5;241m=\u001b[39m\u001b[38;5;241m1\u001b[39m\n",
      "\u001b[1;31mTypeError\u001b[0m: range() takes 0 positional arguments but 1 was given"
     ]
    }
   ],
   "source": [
    "## write your program for Q.1\n",
    "name=str(input(\"Enter a string: \"))\n",
    "def vowel(ch):\n",
    "    return ch.upper() in ['A','E','I','O','U']\n",
    "def countvowels(name):\n",
    "    count=0\n",
    "    for i in range(len(name)):\n",
    "        if vowel(name[i]):\n",
    "            count+=1\n",
    "    return count\n",
    "        \n",
    "    \n",
    "print(\"vowels used\",countvowels(name))\n",
    "  "
   ]
  },
  {
   "cell_type": "code",
   "execution_count": 62,
   "metadata": {
    "executionInfo": {
     "elapsed": 3,
     "status": "ok",
     "timestamp": 1686500478051,
     "user": {
      "displayName": "Anish Thapaliya",
      "userId": "06325140887572930045"
     },
     "user_tz": -345
    },
    "id": "oNayYFoZJYSJ"
   },
   "outputs": [
    {
     "ename": "TypeError",
     "evalue": "range() takes 0 positional arguments but 1 was given",
     "output_type": "error",
     "traceback": [
      "\u001b[1;31m---------------------------------------------------------------------------\u001b[0m",
      "\u001b[1;31mTypeError\u001b[0m                                 Traceback (most recent call last)",
      "Cell \u001b[1;32mIn[62], line 14\u001b[0m\n\u001b[0;32m     11\u001b[0m                     \u001b[38;5;28mprint\u001b[39m(L[i], L[j], L[k]) \n\u001b[0;32m     13\u001b[0m \u001b[38;5;66;03m# Driver Code \u001b[39;00m\n\u001b[1;32m---> 14\u001b[0m comb([\u001b[38;5;241m1\u001b[39m, \u001b[38;5;241m2\u001b[39m, \u001b[38;5;241m3\u001b[39m, \u001b[38;5;241m4\u001b[39m, \u001b[38;5;241m5\u001b[39m])\n",
      "Cell \u001b[1;32mIn[62], line 4\u001b[0m, in \u001b[0;36mcomb\u001b[1;34m(L)\u001b[0m\n\u001b[0;32m      2\u001b[0m \u001b[38;5;28;01mdef\u001b[39;00m \u001b[38;5;21mcomb\u001b[39m(L): \n\u001b[1;32m----> 4\u001b[0m     \u001b[38;5;28;01mfor\u001b[39;00m i \u001b[38;5;129;01min\u001b[39;00m \u001b[38;5;28mrange\u001b[39m(\u001b[38;5;241m5\u001b[39m): \n\u001b[0;32m      5\u001b[0m         \u001b[38;5;28;01mfor\u001b[39;00m j \u001b[38;5;129;01min\u001b[39;00m \u001b[38;5;28mrange\u001b[39m(\u001b[38;5;241m5\u001b[39m): \n\u001b[0;32m      6\u001b[0m             \u001b[38;5;28;01mfor\u001b[39;00m k \u001b[38;5;129;01min\u001b[39;00m \u001b[38;5;28mrange\u001b[39m(\u001b[38;5;241m5\u001b[39m): \n\u001b[0;32m      7\u001b[0m                   \n\u001b[0;32m      8\u001b[0m                 \u001b[38;5;66;03m# check if the indexes are not \u001b[39;00m\n\u001b[0;32m      9\u001b[0m                 \u001b[38;5;66;03m# same \u001b[39;00m\n",
      "\u001b[1;31mTypeError\u001b[0m: range() takes 0 positional arguments but 1 was given"
     ]
    }
   ],
   "source": [
    "# write your program for Q.2 \n",
    "def comb(L): \n",
    "      \n",
    "    for i in range(5): \n",
    "        for j in range(5): \n",
    "            for k in range(5): \n",
    "                  \n",
    "                # check if the indexes are not \n",
    "                # same \n",
    "                if (i!=j and j!=k and i!=k): \n",
    "                    print(L[i], L[j], L[k]) \n",
    "                      \n",
    "# Driver Code \n",
    "comb([1, 2, 3, 4, 5])\n"
   ]
  },
  {
   "cell_type": "markdown",
   "metadata": {},
   "source": [
    "# Task 01: Word Pyramid Generator\n",
    "\n",
    "## Task\n",
    "\n",
    "Create a program that generates a word pyramid pattern based on user input.\n",
    "\n",
    "## Objective\n",
    "\n",
    "The objective is to generate and print a pyramid pattern using the letters of the word provided by the user. Each level of the pyramid should display the letters of the word up to that level, and the word should be centered on each level of the pyramid.\n",
    "\n",
    "## Requirements\n",
    "\n",
    "1. Ask the user to input a word.\n",
    "2. Generate and print a pyramid pattern using the letters of the word.\n",
    "3. Each level of the pyramid should display the letters of the word up to that level.\n",
    "4. The word should be centered on each level of the pyramid.\n",
    "\n",
    "## Additional Challenges\n",
    "\n",
    "1. Implement a function to validate the input and ensure it's a valid word.\n",
    "2. Allow the user to choose the direction of the pyramid (upwards or downwards).\n",
    "3. Enhance the program to handle phrases or sentences instead of single words.\n",
    "\n",
    "Expected Output:\n",
    "if word level is up:\n",
    "```\n",
    "            S    \n",
    "           S u   \n",
    "          S u n  \n",
    "         S u n i \n",
    "        S u n i l\n",
    "```\n",
    "\n",
    "if word level is Down:\n",
    "```\n",
    "            S u n i l\n",
    "             S u n i \n",
    "              S u n  \n",
    "               S u   \n",
    "                S \n",
    "```"
   ]
  },
  {
   "cell_type": "markdown",
   "metadata": {},
   "source": [
    "# Task 02: List Manipulation - Odd-Even Sorter\n",
    "\n",
    "## Objective\n",
    "\n",
    "Create a program that takes a list of numbers from the user, sorts them into two separate lists (one for odd numbers and one for even numbers), and displays the sorted lists.\n",
    "\n",
    "## Requirements\n",
    "\n",
    "1. Ask the user to input a list of numbers (comma-separated).\n",
    "2. Sort the numbers into two lists: one for odd numbers and one for even numbers.\n",
    "3. Display both lists.\n",
    "\n",
    "## Additional Challenges\n",
    "\n",
    "1. Allow the user to input any type of values (not just numbers) and handle different data types.\n",
    "2. Enhance the program to display the sorted lists in ascending or descending order."
   ]
  },
  {
   "cell_type": "markdown",
   "metadata": {},
   "source": [
    "# Task 03: Prime Factorization\n",
    "\n",
    "## Objective\n",
    "\n",
    "Create a program that takes an integer input from the user and prints its prime factorization.\n",
    "\n",
    "## Requirements\n",
    "\n",
    "1. Ask the user to input a positive integer.\n",
    "2. Compute and print the prime factorization of the input integer.\n",
    "\n",
    "## Additional Challenges\n",
    "\n",
    "1. Implement error handling to ensure the user inputs a valid positive integer.\n",
    "2. Allow the program to handle edge cases, such as the input being 1 or a prime number.\n",
    "3. Enhance the program to handle multiple integer inputs in a loop until the user chooses to exit."
   ]
  },
  {
   "cell_type": "markdown",
   "metadata": {},
   "source": [
    "# Task 04: Number Guessing Game\n",
    "\n",
    "## Objective\n",
    "\n",
    "Create a simple number guessing game where the program generates a random number, and the user has to guess it.\n",
    "    \n",
    "## Requirements\n",
    "\n",
    "1. Generate a random number between a specified range.\n",
    "2. Ask the user to guess the number.\n",
    "3. Provide feedback on whether the guess is too high, too low, or correct.\n",
    "4. Allow the user to continue guessing until they guess the correct number.\n",
    "5. Display the number of attempts it took to guess correctly.\n",
    "\n",
    "## Additional Challenges\n",
    "\n",
    "1. Implement error handling to ensure the user inputs a valid number.\n",
    "2. Allow the user to choose the range of numbers for the guessing game.\n",
    "3. Enhance the program to provide hints or clues based on the user's previous guesses."
   ]
  },
  {
   "cell_type": "markdown",
   "metadata": {
    "id": "7NQ7raiQTibx"
   },
   "source": [
    "<hr>\n",
    "<h2>Congratulations, you have completed your hands-on lab in Python Loops:. \n",
    "<hr>"
   ]
  },
  {
   "cell_type": "code",
   "execution_count": null,
   "metadata": {},
   "outputs": [],
   "source": []
  }
 ],
 "metadata": {
  "colab": {
   "authorship_tag": "ABX9TyO99C5gN5SybN39Daa7RVJ8",
   "provenance": []
  },
  "kernelspec": {
   "display_name": "Python 3 (ipykernel)",
   "language": "python",
   "name": "python3"
  },
  "language_info": {
   "codemirror_mode": {
    "name": "ipython",
    "version": 3
   },
   "file_extension": ".py",
   "mimetype": "text/x-python",
   "name": "python",
   "nbconvert_exporter": "python",
   "pygments_lexer": "ipython3",
   "version": "3.11.5"
  }
 },
 "nbformat": 4,
 "nbformat_minor": 4
}
