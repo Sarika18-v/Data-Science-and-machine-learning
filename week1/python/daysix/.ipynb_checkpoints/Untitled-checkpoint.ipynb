{
 "cells": [
  {
   "cell_type": "code",
   "execution_count": 2,
   "id": "ee5f1e7e",
   "metadata": {},
   "outputs": [
    {
     "name": "stdout",
     "output_type": "stream",
     "text": [
      "('Sarika', 'Pokhrel', 20, 43.23)\n"
     ]
    }
   ],
   "source": [
    "simple_tuple=(\"Sarika\",\"Pokhrel\",20,43.23)\n",
    "print(simple_tuple)"
   ]
  },
  {
   "cell_type": "code",
   "execution_count": 3,
   "id": "d231ffab",
   "metadata": {},
   "outputs": [
    {
     "name": "stdout",
     "output_type": "stream",
     "text": [
      "<class 'tuple'>\n"
     ]
    }
   ],
   "source": [
    "print(type(simple_tuple))"
   ]
  },
  {
   "cell_type": "code",
   "execution_count": 4,
   "id": "35b48424",
   "metadata": {},
   "outputs": [
    {
     "name": "stdout",
     "output_type": "stream",
     "text": [
      "4\n"
     ]
    }
   ],
   "source": [
    "tuple_len=len(simple_tuple)\n",
    "print(tuple_len)"
   ]
  },
  {
   "cell_type": "code",
   "execution_count": 5,
   "id": "2a314b3c",
   "metadata": {},
   "outputs": [
    {
     "name": "stdout",
     "output_type": "stream",
     "text": [
      "(('Sarika', 'Pokhrel'), (20, 43.23), ('hehe', 34))\n"
     ]
    }
   ],
   "source": [
    "nested_tuple=((\"Sarika\",\"Pokhrel\"),(20,43.23),(\"hehe\",34))\n",
    "print(nested_tuple)"
   ]
  },
  {
   "cell_type": "code",
   "execution_count": 6,
   "id": "b0d8634e",
   "metadata": {},
   "outputs": [
    {
     "name": "stdout",
     "output_type": "stream",
     "text": [
      "<class 'tuple'>\n"
     ]
    }
   ],
   "source": [
    "print(type(nested_tuple))"
   ]
  },
  {
   "cell_type": "code",
   "execution_count": 7,
   "id": "b5c535e5",
   "metadata": {},
   "outputs": [
    {
     "name": "stdout",
     "output_type": "stream",
     "text": [
      "3\n"
     ]
    }
   ],
   "source": [
    "tuple_len=len(nested_tuple)\n",
    "print(tuple_len)"
   ]
  },
  {
   "cell_type": "code",
   "execution_count": 9,
   "id": "23fd0243",
   "metadata": {},
   "outputs": [
    {
     "name": "stdout",
     "output_type": "stream",
     "text": [
      "('I', 'am', 'learning', 'python')\n"
     ]
    }
   ],
   "source": [
    "hehe=\"I am learning python\"\n",
    "list_from_hehe=hehe.split(\" \")\n",
    "tuple_from_hehe=tuple(list_from_hehe)\n",
    "print(tuple_from_hehe)"
   ]
  },
  {
   "cell_type": "code",
   "execution_count": 10,
   "id": "f8dd0b11",
   "metadata": {},
   "outputs": [
    {
     "name": "stdout",
     "output_type": "stream",
     "text": [
      "(0, 1, 2, 3, 7)\n"
     ]
    }
   ],
   "source": [
    "tuple_indexing=(0,1,2,3,7)\n",
    "print(tuple_indexing)"
   ]
  },
  {
   "cell_type": "code",
   "execution_count": 11,
   "id": "8a603d18",
   "metadata": {},
   "outputs": [
    {
     "data": {
      "text/plain": [
       "0"
      ]
     },
     "execution_count": 11,
     "metadata": {},
     "output_type": "execute_result"
    }
   ],
   "source": [
    "tuple_indexing[0]"
   ]
  },
  {
   "cell_type": "code",
   "execution_count": 12,
   "id": "0dd56cc3",
   "metadata": {},
   "outputs": [
    {
     "data": {
      "text/plain": [
       "7"
      ]
     },
     "execution_count": 12,
     "metadata": {},
     "output_type": "execute_result"
    }
   ],
   "source": [
    "tuple_indexing[4]"
   ]
  },
  {
   "cell_type": "code",
   "execution_count": null,
   "id": "1dfbb8ee",
   "metadata": {},
   "outputs": [],
   "source": []
  }
 ],
 "metadata": {
  "kernelspec": {
   "display_name": "Python 3 (ipykernel)",
   "language": "python",
   "name": "python3"
  },
  "language_info": {
   "codemirror_mode": {
    "name": "ipython",
    "version": 3
   },
   "file_extension": ".py",
   "mimetype": "text/x-python",
   "name": "python",
   "nbconvert_exporter": "python",
   "pygments_lexer": "ipython3",
   "version": "3.11.5"
  }
 },
 "nbformat": 4,
 "nbformat_minor": 5
}
