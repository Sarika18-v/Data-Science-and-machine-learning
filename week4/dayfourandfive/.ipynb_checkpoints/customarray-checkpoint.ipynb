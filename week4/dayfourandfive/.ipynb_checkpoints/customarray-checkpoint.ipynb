{
 "cells": [
  {
   "cell_type": "code",
   "execution_count": null,
   "id": "d9669f05",
   "metadata": {},
   "outputs": [],
   "source": [
    "# Creating Array\n",
    "class Array:\n",
    "    def __init__(self, data_type, initial_capacity=10):\n",
    "        self.data_type = data_type\n",
    "        self.capacity = initial_capacity\n",
    "        self.size = 0\n",
    "        self.elements = [None] * self.capacity\n",
    "\n",
    "    def append(self, element):\n",
    "        if not isinstance(element, self.data_type):\n",
    "            raise TypeError(f\"Invalid data type. Expected {self.data_type}, got {type(element)}\")\n",
    "        if self.size == self.capacity:\n",
    "            self._resize()\n",
    "        self.elements[self.size] = element\n",
    "        self.size += 1\n",
    "\n",
    "    def __getitem__(self, index):\n",
    "        if index < 0 or index >= self.size:\n",
    "            raise IndexError(\"Index out of range\")\n",
    "        return self.elements[index]\n",
    "\n",
    "    def __len__(self):\n",
    "        return self.size\n",
    "    def _resize(self):\n",
    "        self.capacity *= 2\n",
    "        new_elements = [None] * self.capacity\n",
    "        for i in range(self.size):\n",
    "            new_elements[i] = self.elements[i]\n",
    "        self.elements = new_elements\n",
    "\n",
    "arr = Array(str)\n",
    "# arr.append(1)\n",
    "# arr.append(2)\n",
    "# arr.append(3)\n",
    "\n",
    "\n",
    "arr.append(\"four\")\n",
    "# arr\n",
    "arr.__getitem__(0)\n",
    "arr.__len__()\n",
    "# arr.elements\n",
    "# for data in arr:\n",
    "#     print(data)"
   ]
  }
 ],
 "metadata": {
  "kernelspec": {
   "display_name": "Python 3 (ipykernel)",
   "language": "python",
   "name": "python3"
  },
  "language_info": {
   "codemirror_mode": {
    "name": "ipython",
    "version": 3
   },
   "file_extension": ".py",
   "mimetype": "text/x-python",
   "name": "python",
   "nbconvert_exporter": "python",
   "pygments_lexer": "ipython3",
   "version": "3.11.5"
  }
 },
 "nbformat": 4,
 "nbformat_minor": 5
}
