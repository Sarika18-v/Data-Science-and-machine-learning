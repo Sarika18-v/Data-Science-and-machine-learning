{
 "cells": [
  {
   "cell_type": "code",
   "execution_count": 3,
   "id": "d8231554",
   "metadata": {},
   "outputs": [],
   "source": [
    "import numpy as np"
   ]
  },
  {
   "cell_type": "code",
   "execution_count": 4,
   "id": "ea0a1593",
   "metadata": {},
   "outputs": [
    {
     "name": "stdout",
     "output_type": "stream",
     "text": [
      "<class 'numpy.ndarray'>\n"
     ]
    }
   ],
   "source": [
    "list1=[1,2,3,4,5,]\n",
    "arr1=np.array(list1)\n",
    "print(type(arr1))"
   ]
  },
  {
   "cell_type": "code",
   "execution_count": 5,
   "id": "2fdf0d47",
   "metadata": {},
   "outputs": [
    {
     "data": {
      "text/plain": [
       "array([[1., 2., 3.],\n",
       "       [8., 9., 7.]], dtype=float32)"
      ]
     },
     "execution_count": 5,
     "metadata": {},
     "output_type": "execute_result"
    }
   ],
   "source": [
    "#2 dimensional array\n",
    "list2=[\n",
    "    [1,2,3,],\n",
    "    [8,9,7]\n",
    "]\n",
    "\n",
    "arr2=np.array(list2, dtype='float32')\n",
    "arr2"
   ]
  },
  {
   "cell_type": "code",
   "execution_count": 6,
   "id": "31a554c3",
   "metadata": {},
   "outputs": [
    {
     "data": {
      "text/plain": [
       "array([0, 0, 0, 0, 0, 0, 0, 0, 0, 0])"
      ]
     },
     "execution_count": 6,
     "metadata": {},
     "output_type": "execute_result"
    }
   ],
   "source": [
    "#Create a length 10 integer array filled with zeros.\n",
    "np.zeros(10,dtype='int')"
   ]
  },
  {
   "cell_type": "code",
   "execution_count": 7,
   "id": "e5fdf864",
   "metadata": {},
   "outputs": [
    {
     "data": {
      "text/plain": [
       "array([[0, 0, 0, 0],\n",
       "       [0, 0, 0, 0]])"
      ]
     },
     "execution_count": 7,
     "metadata": {},
     "output_type": "execute_result"
    }
   ],
   "source": [
    "#creating 2 dimensional array using zeros\n",
    "np.zeros((2,4),dtype='int')"
   ]
  },
  {
   "cell_type": "code",
   "execution_count": 8,
   "id": "8ac8ee36",
   "metadata": {},
   "outputs": [
    {
     "data": {
      "text/plain": [
       "array([[1., 1., 1., 1.],\n",
       "       [1., 1., 1., 1.]])"
      ]
     },
     "execution_count": 8,
     "metadata": {},
     "output_type": "execute_result"
    }
   ],
   "source": [
    "\n",
    "#creating arrays 2x4 using ones\n",
    "np.ones((2,4),dtype='float')"
   ]
  },
  {
   "cell_type": "code",
   "execution_count": null,
   "id": "e7ecfaa0",
   "metadata": {},
   "outputs": [],
   "source": []
  },
  {
   "cell_type": "code",
   "execution_count": 9,
   "id": "047ed649",
   "metadata": {},
   "outputs": [
    {
     "data": {
      "text/plain": [
       "array([[3.14, 3.14, 3.14, 3.14],\n",
       "       [3.14, 3.14, 3.14, 3.14]])"
      ]
     },
     "execution_count": 9,
     "metadata": {},
     "output_type": "execute_result"
    }
   ],
   "source": [
    "#creating 2x4 arrays filled with 3.14\n",
    "np.full((2,4),3.14)"
   ]
  },
  {
   "cell_type": "code",
   "execution_count": 10,
   "id": "c1cdd1da",
   "metadata": {},
   "outputs": [
    {
     "data": {
      "text/plain": [
       "array([ 0,  2,  4,  6,  8, 10, 12, 14, 16, 18])"
      ]
     },
     "execution_count": 10,
     "metadata": {},
     "output_type": "execute_result"
    }
   ],
   "source": [
    "#in for loop did another way\n",
    "np.arange(0,20,2)"
   ]
  },
  {
   "cell_type": "code",
   "execution_count": 11,
   "id": "370783cc",
   "metadata": {},
   "outputs": [
    {
     "data": {
      "text/plain": [
       "array([[0.96854683, 0.22750207, 0.870047  ],\n",
       "       [0.88447087, 0.60991247, 0.01621766],\n",
       "       [0.90782391, 0.94313533, 0.6370743 ]])"
      ]
     },
     "execution_count": 11,
     "metadata": {},
     "output_type": "execute_result"
    }
   ],
   "source": [
    "np.random.random((3,3))"
   ]
  },
  {
   "cell_type": "code",
   "execution_count": 12,
   "id": "22b07a9d",
   "metadata": {},
   "outputs": [
    {
     "data": {
      "text/plain": [
       "array([[-0.7397219 ,  0.43583562,  1.01638604],\n",
       "       [ 0.24020842, -1.25970329,  0.19886263],\n",
       "       [ 0.33865695, -1.22149568,  1.26107907]])"
      ]
     },
     "execution_count": 12,
     "metadata": {},
     "output_type": "execute_result"
    }
   ],
   "source": [
    "np.random.normal(0,1,(3,3))"
   ]
  },
  {
   "cell_type": "code",
   "execution_count": 13,
   "id": "bcde468f",
   "metadata": {},
   "outputs": [
    {
     "data": {
      "text/plain": [
       "array([[ 4.25029331,  0.6545703 ,  2.46137102],\n",
       "       [-0.70015037,  1.97949094,  1.10060949],\n",
       "       [-1.76697895,  3.91089118,  0.11005046]])"
      ]
     },
     "execution_count": 13,
     "metadata": {},
     "output_type": "execute_result"
    }
   ],
   "source": [
    "#3x3 array having mean 1 sd 2\n",
    "np.random.normal(1,2,(3,3))"
   ]
  },
  {
   "cell_type": "code",
   "execution_count": 14,
   "id": "387f8e75",
   "metadata": {},
   "outputs": [
    {
     "data": {
      "text/plain": [
       "array([[9, 1, 5],\n",
       "       [3, 1, 0],\n",
       "       [7, 2, 7]])"
      ]
     },
     "execution_count": 14,
     "metadata": {},
     "output_type": "execute_result"
    }
   ],
   "source": [
    "np.random.randint(0,10,(3,3))"
   ]
  },
  {
   "cell_type": "code",
   "execution_count": 15,
   "id": "c65bce5c",
   "metadata": {},
   "outputs": [
    {
     "name": "stdout",
     "output_type": "stream",
     "text": [
      "The dimension of sample arrar is 2\n"
     ]
    }
   ],
   "source": [
    "sample_array=np.array([ [1,2,3],\n",
    "    [4,7,8],\n",
    "    [1,7,9]\n",
    "                      ])\n",
    "print(f\"The dimension of sample arrar is {sample_array.ndim}\")"
   ]
  },
  {
   "cell_type": "code",
   "execution_count": 16,
   "id": "994fe210",
   "metadata": {},
   "outputs": [
    {
     "name": "stdout",
     "output_type": "stream",
     "text": [
      "The shape of sample arrar is (3, 3)\n"
     ]
    }
   ],
   "source": [
    "print(f\"The shape of sample arrar is {sample_array.shape}\")"
   ]
  },
  {
   "cell_type": "code",
   "execution_count": 17,
   "id": "3bc60aaa",
   "metadata": {},
   "outputs": [
    {
     "name": "stdout",
     "output_type": "stream",
     "text": [
      "The size of sample arrar is 9\n"
     ]
    }
   ],
   "source": [
    "print(f\"The size of sample arrar is {sample_array.size}\")"
   ]
  },
  {
   "cell_type": "code",
   "execution_count": 18,
   "id": "a9fa3dae",
   "metadata": {},
   "outputs": [
    {
     "data": {
      "text/plain": [
       "array(['1', '2', '3', '4', '5', 'sarika'], dtype='<U11')"
      ]
     },
     "execution_count": 18,
     "metadata": {},
     "output_type": "execute_result"
    }
   ],
   "source": [
    "list1=[1,2,3,4,5,\"sarika\"]\n",
    "arr1=np.array(list1)\n",
    "arr1"
   ]
  },
  {
   "cell_type": "code",
   "execution_count": 21,
   "id": "65244947",
   "metadata": {},
   "outputs": [
    {
     "data": {
      "text/plain": [
       "array([1, 2, 3, 4])"
      ]
     },
     "execution_count": 21,
     "metadata": {},
     "output_type": "execute_result"
    }
   ],
   "source": [
    "import numpy as np \n",
    "arr01=np.array([1,2,3,4])\n",
    "arr01"
   ]
  },
  {
   "cell_type": "code",
   "execution_count": 27,
   "id": "f44069c1",
   "metadata": {},
   "outputs": [
    {
     "ename": "ValueError",
     "evalue": "invalid literal for int() with base 10: 'Sarika'",
     "output_type": "error",
     "traceback": [
      "\u001b[1;31m---------------------------------------------------------------------------\u001b[0m",
      "\u001b[1;31mValueError\u001b[0m                                Traceback (most recent call last)",
      "Cell \u001b[1;32mIn[27], line 1\u001b[0m\n\u001b[1;32m----> 1\u001b[0m arr02\u001b[38;5;241m=\u001b[39mnp\u001b[38;5;241m.\u001b[39marray([\u001b[38;5;241m1\u001b[39m,\u001b[38;5;241m2\u001b[39m,\u001b[38;5;241m3\u001b[39m,\u001b[38;5;241m4\u001b[39m,\u001b[38;5;124m\"\u001b[39m\u001b[38;5;124mSarika\u001b[39m\u001b[38;5;124m\"\u001b[39m],dtype\u001b[38;5;241m=\u001b[39m\u001b[38;5;28mint\u001b[39m)\n\u001b[0;32m      2\u001b[0m arr02\n",
      "\u001b[1;31mValueError\u001b[0m: invalid literal for int() with base 10: 'Sarika'"
     ]
    }
   ],
   "source": [
    "arr02=np.array([1,2,3,4,\"Sarika\"],dtype=int)\n",
    "arr02"
   ]
  },
  {
   "cell_type": "code",
   "execution_count": 28,
   "id": "613cf165",
   "metadata": {},
   "outputs": [
    {
     "ename": "ValueError",
     "evalue": "could not convert string to float: 'Sarika'",
     "output_type": "error",
     "traceback": [
      "\u001b[1;31m---------------------------------------------------------------------------\u001b[0m",
      "\u001b[1;31mValueError\u001b[0m                                Traceback (most recent call last)",
      "Cell \u001b[1;32mIn[28], line 1\u001b[0m\n\u001b[1;32m----> 1\u001b[0m arr03\u001b[38;5;241m=\u001b[39mnp\u001b[38;5;241m.\u001b[39marray([\u001b[38;5;241m1\u001b[39m,\u001b[38;5;241m2\u001b[39m,\u001b[38;5;241m3\u001b[39m,\u001b[38;5;241m4\u001b[39m,\u001b[38;5;124m\"\u001b[39m\u001b[38;5;124mSarika\u001b[39m\u001b[38;5;124m\"\u001b[39m],dtype\u001b[38;5;241m=\u001b[39m\u001b[38;5;28mfloat\u001b[39m)\n\u001b[0;32m      2\u001b[0m arr03\n",
      "\u001b[1;31mValueError\u001b[0m: could not convert string to float: 'Sarika'"
     ]
    }
   ],
   "source": [
    "arr03=np.array([1,2,3,4,\"Sarika\"],dtype=float)\n",
    "arr03"
   ]
  },
  {
   "cell_type": "code",
   "execution_count": 29,
   "id": "e1745600",
   "metadata": {},
   "outputs": [
    {
     "data": {
      "text/plain": [
       "array(['1', '2', '3', '4', 'Sarika'], dtype='<U6')"
      ]
     },
     "execution_count": 29,
     "metadata": {},
     "output_type": "execute_result"
    }
   ],
   "source": [
    "arr04=np.array([1,2,3,4,\"Sarika\"],dtype=str)\n",
    "arr04"
   ]
  },
  {
   "cell_type": "code",
   "execution_count": 30,
   "id": "4a93cecd",
   "metadata": {},
   "outputs": [
    {
     "name": "stdout",
     "output_type": "stream",
     "text": [
      "1st item:0\n",
      "2nd item:1\n",
      "3rd item:2\n",
      "4th item:3\n"
     ]
    }
   ],
   "source": [
    "a=np.array([0,1,2,3,4,])\n",
    "print(f'1st item:{a[0]}')\n",
    "print(f'2nd item:{a[1]}')\n",
    "print(f'3rd item:{a[2]}')\n",
    "print(f'4th item:{a[3]}')"
   ]
  },
  {
   "cell_type": "code",
   "execution_count": 41,
   "id": "4a517253",
   "metadata": {},
   "outputs": [
    {
     "name": "stdout",
     "output_type": "stream",
     "text": [
      "0\n",
      "1\n",
      "2\n",
      "9\n",
      "0\n",
      "2\n"
     ]
    }
   ],
   "source": [
    "a2=np.array([[0,1,2,3,4],\n",
    "             [9,0,2,1,3]\n",
    "            ])\n",
    "print(a2[0,0])\n",
    "print(a2[0,1])\n",
    "print(a2[0,2])\n",
    "print(a2[1,0])\n",
    "print(a2[1,1])\n",
    "print(a2[1,2])\n"
   ]
  },
  {
   "cell_type": "code",
   "execution_count": 42,
   "id": "c7a8df8d",
   "metadata": {},
   "outputs": [
    {
     "name": "stdout",
     "output_type": "stream",
     "text": [
      "[1 2 3]\n"
     ]
    }
   ],
   "source": [
    "#slicing element from 2nd to 4\n",
    "b=np.array([0,1,2,3,4,])\n",
    "bslice=b[1:4]\n",
    "print(bslice)\n"
   ]
  },
  {
   "cell_type": "code",
   "execution_count": 45,
   "id": "7376959b",
   "metadata": {},
   "outputs": [
    {
     "name": "stdout",
     "output_type": "stream",
     "text": [
      "[4]\n"
     ]
    }
   ],
   "source": [
    "#after fifth element slice\n",
    "bslice=b[4:]\n",
    "print(bslice)"
   ]
  },
  {
   "cell_type": "code",
   "execution_count": 46,
   "id": "99728fe2",
   "metadata": {},
   "outputs": [
    {
     "name": "stdout",
     "output_type": "stream",
     "text": [
      "[2 3]\n"
     ]
    }
   ],
   "source": [
    "#left to right\n",
    "bslice=b[-3:-1]\n",
    "print(bslice)"
   ]
  },
  {
   "cell_type": "code",
   "execution_count": 50,
   "id": "a2ca6e75",
   "metadata": {},
   "outputs": [
    {
     "data": {
      "text/plain": [
       "array([17, 18])"
      ]
     },
     "execution_count": 50,
     "metadata": {},
     "output_type": "execute_result"
    }
   ],
   "source": [
    "arr2=np.array([\n",
    "    [11,12,13],\n",
    "    [14,17,18],\n",
    "    [10,31,32]\n",
    "])\n",
    "arr2[1,1:]"
   ]
  },
  {
   "cell_type": "code",
   "execution_count": 53,
   "id": "4513d909",
   "metadata": {},
   "outputs": [
    {
     "name": "stdout",
     "output_type": "stream",
     "text": [
      "[1 2 3 4 7 8]\n"
     ]
    }
   ],
   "source": [
    "#create sample array\n",
    "base_arr=np.array([1,2,3,4,7,8])\n",
    "print(base_arr)"
   ]
  },
  {
   "cell_type": "code",
   "execution_count": 55,
   "id": "f0d68ff7",
   "metadata": {},
   "outputs": [
    {
     "name": "stdout",
     "output_type": "stream",
     "text": [
      "[1 2 3 4 7 8]\n"
     ]
    }
   ],
   "source": [
    "copy_arr=base_arr.copy()\n",
    "print(copy_arr)"
   ]
  },
  {
   "cell_type": "code",
   "execution_count": 62,
   "id": "233beb9e",
   "metadata": {},
   "outputs": [
    {
     "name": "stdout",
     "output_type": "stream",
     "text": [
      "[1 2 3 4 7 8]\n"
     ]
    }
   ],
   "source": [
    "copy_arr=base_arr.copy()\n",
    "copy_arr1=base_arr\n",
    "print(copy_arr)"
   ]
  },
  {
   "cell_type": "code",
   "execution_count": 63,
   "id": "1370513f",
   "metadata": {},
   "outputs": [
    {
     "name": "stdout",
     "output_type": "stream",
     "text": [
      "Do original array and copy array shares a same memory?\n",
      "    Ans:False\n"
     ]
    }
   ],
   "source": [
    "print(f\"\"\"Do original array and copy array shares a same memory?\n",
    "    Ans:{np.shares_memory(base_arr,copy_arr)}\"\"\")\n"
   ]
  },
  {
   "cell_type": "code",
   "execution_count": 66,
   "id": "fff4f21f",
   "metadata": {},
   "outputs": [
    {
     "name": "stdout",
     "output_type": "stream",
     "text": [
      "[1 2 3 4 7 8]\n"
     ]
    }
   ],
   "source": [
    "view_arr=base_arr.view()\n",
    "print(view_arr)"
   ]
  },
  {
   "cell_type": "code",
   "execution_count": 68,
   "id": "102450e3",
   "metadata": {},
   "outputs": [
    {
     "name": "stdout",
     "output_type": "stream",
     "text": [
      "Do view array and copy array shares a same memory?\n",
      "    Ans:False\n"
     ]
    }
   ],
   "source": [
    "print(f\"\"\"Do view array and copy array shares a same memory?\n",
    "    Ans:{np.shares_memory(view_arr,copy_arr)}\"\"\")"
   ]
  },
  {
   "cell_type": "code",
   "execution_count": null,
   "id": "42f8db2b",
   "metadata": {},
   "outputs": [],
   "source": []
  }
 ],
 "metadata": {
  "kernelspec": {
   "display_name": "Python 3 (ipykernel)",
   "language": "python",
   "name": "python3"
  },
  "language_info": {
   "codemirror_mode": {
    "name": "ipython",
    "version": 3
   },
   "file_extension": ".py",
   "mimetype": "text/x-python",
   "name": "python",
   "nbconvert_exporter": "python",
   "pygments_lexer": "ipython3",
   "version": "3.11.5"
  }
 },
 "nbformat": 4,
 "nbformat_minor": 5
}
