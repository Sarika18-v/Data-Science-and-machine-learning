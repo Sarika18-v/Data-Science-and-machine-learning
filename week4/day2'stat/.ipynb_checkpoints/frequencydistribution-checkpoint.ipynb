{
 "cells": [
  {
   "cell_type": "code",
   "execution_count": 1,
   "id": "57421012-e5ef-4588-97d1-e2d06d30e8b6",
   "metadata": {},
   "outputs": [],
   "source": [
    "#datacollection\n",
    "#datasorting\n",
    "#identifycategories\n",
    "#createintervals\n",
    "#createfrequencies\n",
    "#createfrequencytable\n",
    "#visualrepresentation\n",
    "#Barchartorhistogram"
   ]
  },
  {
   "cell_type": "code",
   "execution_count": 2,
   "id": "19549dd1-89ed-4a23-a2eb-bbce61b18ba6",
   "metadata": {},
   "outputs": [],
   "source": [
    "from collections import Counter\n",
    "import numpy as np\n",
    "import pandas as pd\n",
    "import matplotlib.pyplot as plt\n",
    "import seaborn as sns"
   ]
  },
  {
   "cell_type": "code",
   "execution_count": 9,
   "id": "8cb80ad8-9e4f-4618-871f-b65336eb6927",
   "metadata": {},
   "outputs": [],
   "source": [
    "#sampledata\n",
    "colors=[\"Blue\", \"Green\", \"Red\", \"Yellow\", \"Blue\", \"Green\", \"Green\", \"Blue\", \"Red\",\n",
    "    \"Red\", \"Blue\", \"Yellow\", \"Green\", \"Green\", \"Blue\", \"Red\", \"Red\", \"Red\", \"Blue\",\n",
    "    \"Green\", \"Yellow\", \"Blue\", \"Blue\", \"Green\", \"Red\", \"Red\", \"Green\", \"Blue\", \"Green\",\n",
    "    \"Yellow\", \"Red\", \"Blue\", \"Green\", \"Blue\", \"Red\", \"Blue\", \"Green\", \"Blue\", \"Red\",\n",
    "    \"Green\", \"Green\", \"Yellow\", \"Red\", \"Blue\", \"Green\", \"Blue\", \"Red\", \"Green\",\"Red\"]"
   ]
  },
  {
   "cell_type": "code",
   "execution_count": 10,
   "id": "973448c9-ad37-4b1f-93aa-d1383028b462",
   "metadata": {},
   "outputs": [
    {
     "name": "stdout",
     "output_type": "stream",
     "text": [
      "Counter({'Blue': 15, 'Green': 15, 'Red': 14, 'Yellow': 5})\n"
     ]
    }
   ],
   "source": [
    "color_counts=Counter(colors)\n",
    "print(color_counts)"
   ]
  },
  {
   "cell_type": "code",
   "execution_count": 12,
   "id": "3f0dfc3a-57fa-4a55-aa83-39f1795f2113",
   "metadata": {},
   "outputs": [
    {
     "name": "stdout",
     "output_type": "stream",
     "text": [
      "Frequency Table\n",
      "Color\t Frequency\n",
      "-------------\n",
      "Blue\t15\n",
      "Green\t15\n",
      "Red\t14\n",
      "Yellow\t5\n"
     ]
    }
   ],
   "source": [
    "print('Frequency Table')\n",
    "print(\"Color\\t Frequency\")\n",
    "print(\"-------------\")\n",
    "for color, count in color_counts.items():\n",
    "    print(f\"{color}\\t{count}\")\n"
   ]
  },
  {
   "cell_type": "code",
   "execution_count": null,
   "id": "8e37e44c-b5c3-4114-a31a-7859d292a959",
   "metadata": {},
   "outputs": [],
   "source": [
    "color_counts=dict(color_counts)\n",
    "index_list=list(color_counts.keys())\n",
    "value_list=list(color_counts.values())\n",
    "df_color=pd.DataFrame(value\n"
   ]
  },
  {
   "cell_type": "code",
   "execution_count": null,
   "id": "67fd9c6e-4489-4e74-8493-21d178054b34",
   "metadata": {},
   "outputs": [],
   "source": []
  },
  {
   "cell_type": "code",
   "execution_count": null,
   "id": "bae4aa29-16db-4664-97c3-2ec85720eb05",
   "metadata": {},
   "outputs": [],
   "source": []
  },
  {
   "cell_type": "code",
   "execution_count": 13,
   "id": "059f2820-4313-46cb-8a39-0e2ddda69ffe",
   "metadata": {},
   "outputs": [
    {
     "name": "stdout",
     "output_type": "stream",
     "text": [
      "[28, 34, 25, 28, 22, 31, 25, 27, 30, 24, 22, 29, 26, 31, 28, 34, 30, 25, 27, 26, 23, 29, 32, 28, 26, 24, 30, 25, 28, 31, 33, 27]\n"
     ]
    }
   ],
   "source": [
    "ages = [\n",
    "    28, 34, 25, 28, 22, 31, 25, 27, 30, 24,\n",
    "    22, 29, 26, 31, 28, 34, 30, 25, 27, 26,\n",
    "    23, 29, 32, 28, 26, 24, 30, 25, 28, 31,\n",
    "    33, 27\n",
    "]\n",
    "print(ages)"
   ]
  },
  {
   "cell_type": "code",
   "execution_count": 14,
   "id": "692ab754-2eef-4171-84b9-67313bb55b69",
   "metadata": {},
   "outputs": [
    {
     "name": "stdout",
     "output_type": "stream",
     "text": [
      "[22, 22, 23, 24, 24, 25, 25, 25, 25, 26, 26, 26, 27, 27, 27, 28, 28, 28, 28, 28, 29, 29, 30, 30, 30, 31, 31, 31, 32, 33, 34, 34]\n"
     ]
    }
   ],
   "source": [
    "ages=sorted(ages)\n",
    "print(ages)"
   ]
  },
  {
   "cell_type": "code",
   "execution_count": 15,
   "id": "86c15c1b-ab62-417d-a41e-1c4abc0c9c3a",
   "metadata": {},
   "outputs": [],
   "source": [
    "intervals=[(20,24),(25,29),(30,34)]"
   ]
  },
  {
   "cell_type": "code",
   "execution_count": 16,
   "id": "0d2dc7ef-0312-4e59-b2a8-5b133a10a1f8",
   "metadata": {},
   "outputs": [],
   "source": [
    "interval_counts=np.zeros(len(intervals),dtype=int)\n",
    "for age in ages:\n",
    "    for i,(lower,upper) in enumerate(intervals):\n",
    "        if lower<= age <=upper:\n",
    "            interval_counts[i]+=1"
   ]
  },
  {
   "cell_type": "code",
   "execution_count": 18,
   "id": "e636a232-b94a-4dc2-8613-86523538ee84",
   "metadata": {},
   "outputs": [
    {
     "name": "stdout",
     "output_type": "stream",
     "text": [
      "Frequency Table\n",
      "Interval\t Frequency\n",
      "-------------\n",
      "20-24\t5\n",
      "25-29\t17\n",
      "30-34\t10\n"
     ]
    }
   ],
   "source": [
    "print('Frequency Table')\n",
    "print(\"Interval\\t Frequency\")\n",
    "print(\"-------------\")\n",
    "for (lower,upper), count in zip(intervals,interval_counts):\n",
    "    print(f\"{lower}-{upper}\\t{count}\")"
   ]
  },
  {
   "cell_type": "code",
   "execution_count": 28,
   "id": "73ab4dd4-7ad9-4b2a-874d-ee2b0ff1186c",
   "metadata": {},
   "outputs": [
    {
     "name": "stdout",
     "output_type": "stream",
     "text": [
      "['20-24', '25-29', '30-34']\n"
     ]
    }
   ],
   "source": [
    "interval_labels=[f\"{lower}-{upper}\" for (lower, upper) in intervals]\n",
    "print(interval_labels)"
   ]
  },
  {
   "cell_type": "code",
   "execution_count": null,
   "id": "e07c73ec-5731-482e-a985-f834d81e276a",
   "metadata": {},
   "outputs": [],
   "source": []
  }
 ],
 "metadata": {
  "kernelspec": {
   "display_name": "Python 3 (ipykernel)",
   "language": "python",
   "name": "python3"
  },
  "language_info": {
   "codemirror_mode": {
    "name": "ipython",
    "version": 3
   },
   "file_extension": ".py",
   "mimetype": "text/x-python",
   "name": "python",
   "nbconvert_exporter": "python",
   "pygments_lexer": "ipython3",
   "version": "3.11.8"
  }
 },
 "nbformat": 4,
 "nbformat_minor": 5
}
